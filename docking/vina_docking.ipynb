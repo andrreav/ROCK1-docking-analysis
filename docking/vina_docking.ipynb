{
 "cells": [
  {
   "cell_type": "markdown",
   "metadata": {},
   "source": [
    "# Compare vina1.1.2, vina1.2.7, qvina2.1"
   ]
  },
  {
   "cell_type": "code",
   "execution_count": null,
   "metadata": {},
   "outputs": [],
   "source": [
    "# import libraries\n",
    "import biotite.structure as struc\n",
    "import biotite.structure.io.pdb as pdb\n",
    "from biotite.structure import superimpose_homologs\n",
    "import numpy as np\n",
    "from rdkit import Chem\n",
    "from rdkit.Chem import AllChem\n",
    "from rdkit.Chem.MolStandardize import rdMolStandardize\n",
    "\n",
    "from dockstring import load_target\n",
    "import pandas as pd\n",
    "\n",
    "from dockstring.utils import get_vina_filename"
   ]
  },
  {
   "cell_type": "markdown",
   "metadata": {},
   "source": [
    "## Read aligned ligands"
   ]
  },
  {
   "cell_type": "code",
   "execution_count": null,
   "metadata": {},
   "outputs": [],
   "source": [
    "# define complex-ligand dictionary\n",
    "complex_ligand = {\n",
    "'1S1C':'GNP',\n",
    "'2ESM': 'M77',\n",
    "'2ETK': 'HFS',\n",
    "'2ETR': 'Y27',\n",
    "'2V55': 'ANP',\n",
    "'3D9V': 'H52',\n",
    "'3NCZ': '3NC',\n",
    "'3TV7': '07Q',\n",
    "'3TWJ': '07R',\n",
    "'3V8S': '0HD',\n",
    "'4W7P': '3J7',\n",
    "'4YVC': '4KH',\n",
    "'4YVE': '4KK',\n",
    "'5BML': '4TW',\n",
    "'5HVU': '65R',\n",
    "'5KKS': '6U1',\n",
    "'5KKT': '6U2',\n",
    "'5UZJ': '8UV',\n",
    "'5WNE': 'B4J',\n",
    "'5WNF': 'B4V',\n",
    "'5WNG': 'B4Y',\n",
    "'5WNH': 'B5G',\n",
    "'6E9W': 'J0P',\n",
    "'7JOU': 'VFS',\n",
    "'7S25': '86G',\n",
    "'7S26': '86K',\n",
    "}\n",
    "\n",
    "complex_ligand = dict(sorted(complex_ligand.items(), key=lambda item: item[1]))\n",
    "\n",
    "molecules_order = []\n",
    "for complex, ligand in complex_ligand.items():\n",
    "    molecules_order.append(ligand)\n",
    "\n",
    "print(molecules_order)\n"
   ]
  },
  {
   "cell_type": "code",
   "execution_count": null,
   "metadata": {},
   "outputs": [],
   "source": [
    "# load target\n",
    "target = load_target(\"ROCK1\")\n",
    "\n",
    "# load dataset and save ligands as smiles\n",
    "dataset_path = \"../materials/aligned_molecules.sdf\"\n",
    "with Chem.SDMolSupplier(dataset_path) as w:\n",
    "    mols = [mol for mol in w]\n",
    "\n",
    "\n",
    "ligands = {}\n",
    "i = 0\n",
    "for m in mols:\n",
    "    ligands[molecules_order[i]] = Chem.MolToSmiles(m)\n",
    "    i = i + 1\n",
    "\n",
    "print(ligands)"
   ]
  },
  {
   "cell_type": "code",
   "execution_count": null,
   "metadata": {},
   "outputs": [],
   "source": [
    "# helper function to neutralize docked molecules\n",
    "def neutralize_mol(mol):\n",
    "    for atom in mol.GetAtoms():\n",
    "        if atom.GetFormalCharge() != 0:\n",
    "            atom.SetFormalCharge(0)  \n",
    "    return mol"
   ]
  },
  {
   "cell_type": "code",
   "execution_count": null,
   "metadata": {},
   "outputs": [],
   "source": [
    "# read aligned poses\n",
    "aligned_path = \"../materials/aligned_molecules.sdf\"\n",
    "with Chem.SDMolSupplier(aligned_path) as w:\n",
    "    al_mols = [mol for mol in w]\n",
    "\n",
    "aligned = {}\n",
    "i = 0\n",
    "for m in al_mols:\n",
    "    aligned[molecules_order[i]] = m\n",
    "    i = i + 1"
   ]
  },
  {
   "cell_type": "markdown",
   "metadata": {},
   "source": [
    "## Docking\n",
    "* calculate RMS for each pose of each molecule"
   ]
  },
  {
   "cell_type": "code",
   "execution_count": null,
   "metadata": {},
   "outputs": [],
   "source": [
    "scores = []\n",
    "docked_mols = []\n",
    "vina_filename = get_vina_filename()\n",
    "print(vina_filename)\n",
    "best_poses = {}\n",
    "best_poses_confId = {}\n",
    "\n",
    "for code, smiles in ligands.items():\n",
    "    score, aux = target.dock(smiles)\n",
    "    aff = aux[\"affinities\"]\n",
    "    #print(f\"{code}: affinities = {aff}\")\n",
    "    docked = aux[\"ligand\"]\n",
    "    docked_mols.append(docked)\n",
    "    rms_top = 100\n",
    "    top_pose = docked\n",
    "    top_confId = 0\n",
    "    for x in range(0,len(aux[\"affinities\"])):\n",
    "        mol = Chem.Mol(docked, confId=x)\n",
    "        score = aux[\"affinities\"][x]\n",
    "        al = neutralize_mol(aligned[code])\n",
    "        doc = neutralize_mol(mol)\n",
    "        rms = Chem.rdMolAlign.CalcRMS(doc, al) # reference in second argument\n",
    "\n",
    "        scores.append({\"code\": code, \"confId\": x, \"smiles\": smiles, \"score\": score, \"rms\": rms})\n",
    "\n",
    "        if(rms < rms_top):\n",
    "            top_pose = mol\n",
    "            top_confId = x\n",
    "            rms_top = rms\n",
    "    best_poses[code] = top_pose\n",
    "    best_poses_confId[code] = top_confId\n",
    "    print(f\"{code}: best confId by RMS: {top_confId} with RMS = {rms_top}\")\n",
    "\n",
    "\n",
    "df = pd.DataFrame.from_records(scores)\n",
    "print(df.head())\n"
   ]
  },
  {
   "cell_type": "code",
   "execution_count": null,
   "metadata": {},
   "outputs": [],
   "source": [
    "# save outputs\n",
    "# best by score\n",
    "with Chem.SDWriter(f\"../materials/docking/vina/{vina_filename}_docked.sdf\") as wri:\n",
    "    for mol in docked_mols:\n",
    "        for conf_id in range(mol.GetNumConformers()): \n",
    "            #print(mol.GetNumConformers())\n",
    "            mol.SetProp(\"_ConfID\", str(conf_id)) \n",
    "            wri.write(mol, confId=conf_id) \n",
    "wri.close()\n",
    "\n",
    "with Chem.SDWriter(f\"../materials/graphs/{vina_filename}_docked.sdf\") as wri:\n",
    "    for mol in docked_mols:\n",
    "        for conf_id in range(mol.GetNumConformers()): \n",
    "            #print(mol.GetNumConformers())\n",
    "            mol.SetProp(\"_ConfID\", str(conf_id)) \n",
    "            wri.write(mol, confId=conf_id) \n",
    "wri.close()"
   ]
  }
 ],
 "metadata": {
  "kernelspec": {
   "display_name": "base",
   "language": "python",
   "name": "python3"
  },
  "language_info": {
   "codemirror_mode": {
    "name": "ipython",
    "version": 3
   },
   "file_extension": ".py",
   "mimetype": "text/x-python",
   "name": "python",
   "nbconvert_exporter": "python",
   "pygments_lexer": "ipython3",
   "version": "3.13.2"
  }
 },
 "nbformat": 4,
 "nbformat_minor": 2
}
