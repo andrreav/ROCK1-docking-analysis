{
 "cells": [
  {
   "cell_type": "markdown",
   "metadata": {},
   "source": [
    "# Calculate RMS - Glide (XP, SP, HTVS)"
   ]
  },
  {
   "cell_type": "code",
   "execution_count": null,
   "metadata": {},
   "outputs": [],
   "source": [
    "# import libraries\n",
    "import pandas as pd\n",
    "from IPython.display import display\n",
    "from rdkit import Chem\n",
    "from rdkit.Chem import Draw\n",
    "from rdkit.Chem import AllChem\n",
    "from spyrmsd import rmsd\n",
    "import spyrmsd.molecule\n",
    "import numpy as np\n",
    "import plotly.express as px\n",
    "import plotly.graph_objects as go\n",
    "import spyrmsd.rmsd"
   ]
  },
  {
   "cell_type": "code",
   "execution_count": null,
   "metadata": {},
   "outputs": [],
   "source": [
    "# define complex-ligand dictionary\n",
    "complex_ligand = {\n",
    "'1S1C':'GNP',\n",
    "'2ESM': 'M77',\n",
    "'2ETK': 'HFS',\n",
    "'2ETR': 'Y27',\n",
    "'2V55': 'ANP',\n",
    "'3D9V': 'H52',\n",
    "'3NCZ': '3NC',\n",
    "'3TV7': '07Q',\n",
    "'3TWJ': '07R',\n",
    "'3V8S': '0HD',\n",
    "'4W7P': '3J7',\n",
    "'4YVC': '4KH',\n",
    "'4YVE': '4KK',\n",
    "'5BML': '4TW',\n",
    "'5HVU': '65R',\n",
    "'5KKS': '6U1',\n",
    "'5KKT': '6U2',\n",
    "'5UZJ': '8UV',\n",
    "'5WNE': 'B4J',\n",
    "'5WNF': 'B4V',\n",
    "'5WNG': 'B4Y',\n",
    "'5WNH': 'B5G',\n",
    "'6E9W': 'J0P',\n",
    "'7JOU': 'VFS',\n",
    "'7S25': '86G',\n",
    "'7S26': '86K',\n",
    "}\n",
    "\n",
    "complex_ligand = dict(sorted(complex_ligand.items(), key=lambda item: item[1]))\n",
    "\n",
    "molecules_order = []\n",
    "for complex, ligand in complex_ligand.items():\n",
    "    molecules_order.append(ligand)\n",
    "\n",
    "print(molecules_order)"
   ]
  },
  {
   "cell_type": "code",
   "execution_count": null,
   "metadata": {},
   "outputs": [],
   "source": [
    "# read aligned poses\n",
    "aligned_path = \"../materials/aligned_molecules.sdf\"\n",
    "with Chem.SDMolSupplier(aligned_path) as w:\n",
    "    al_mols = [mol for mol in w]\n",
    "\n",
    "aligned = {}\n",
    "i = 0\n",
    "for m in al_mols:\n",
    "    code = molecules_order[i]\n",
    "    if(code != 'GNP'):\n",
    "        aligned[molecules_order[i]] = m\n",
    "    i = i + 1\n",
    "\n",
    "print(aligned)"
   ]
  },
  {
   "cell_type": "markdown",
   "metadata": {},
   "source": [
    "## MOE (for comparison)"
   ]
  },
  {
   "cell_type": "code",
   "execution_count": null,
   "metadata": {},
   "outputs": [],
   "source": [
    "# read docked poses\n",
    "# + remove GNP\n",
    "\n",
    "docked_path = f\"../materials/docking/moe/moe_docked.sdf\"\n",
    "with Chem.SDMolSupplier(docked_path, removeHs=True) as w:\n",
    "    mols_temp = [mol for mol in w]\n",
    "\n",
    "mols = {}\n",
    "conf_count = 0\n",
    "\n",
    "for mol in molecules_order:\n",
    "    mols[mol] = list()\n",
    "\n",
    "for i in range (0, len(mols_temp)):\n",
    "    docked = mols_temp[i]\n",
    "    mol_num = int(docked.GetProp(\"mseq\"))-1\n",
    "    code = molecules_order[mol_num]\n",
    "    if(code != \"GNP\"):\n",
    "        mols[code].append(docked)\n",
    "\n",
    "molecules_order.remove(\"GNP\")\n",
    "\n",
    "print(mols)\n",
    "mols_moe = mols"
   ]
  },
  {
   "cell_type": "code",
   "execution_count": null,
   "metadata": {},
   "outputs": [],
   "source": [
    "# calculate rms for best ten poses\n",
    "\n",
    "rms_res = []\n",
    "for code, al_mol in aligned.items():\n",
    "    conf_count = 0\n",
    "    for doc_mol in mols[code]:\n",
    "        spy_al = spyrmsd.molecule.Molecule.from_rdkit(al_mol)\n",
    "        spy_doc = spyrmsd.molecule.Molecule.from_rdkit(doc_mol)\n",
    "        rms = spyrmsd.rmsd.rmsdwrapper(spy_al, spy_doc, symmetry=True, strip=True)\n",
    "        if(conf_count < 10):\n",
    "            rms_res.append({\"code\": code, \"confId\": conf_count, \"rms\": rms[0]})\n",
    "        conf_count = conf_count + 1\n",
    "\n",
    "df = pd.DataFrame.from_records(rms_res)\n",
    "display(df.head())"
   ]
  },
  {
   "cell_type": "code",
   "execution_count": null,
   "metadata": {},
   "outputs": [],
   "source": [
    "# return df with poses with lowest rms\n",
    "min_rms_indeces = df.groupby('code')['rms'].idxmin()\n",
    "min_df_moe = df.loc[min_rms_indeces, ['code', 'confId', 'rms']].reset_index(drop=True)"
   ]
  },
  {
   "cell_type": "markdown",
   "metadata": {},
   "source": [
    "## Glide XP"
   ]
  },
  {
   "cell_type": "code",
   "execution_count": null,
   "metadata": {},
   "outputs": [],
   "source": [
    "# read top ten molecules from Glide XP\n",
    "docked_path = \"../materials/docking/glide/glide_xp_docked.sdf\"\n",
    "with Chem.SDMolSupplier(docked_path, removeHs=True) as w:\n",
    "    mols_temp = [mol for mol in w]\n",
    "\n",
    "molecules_order.append(\"GNP\")\n",
    "molecules_order.sort()\n",
    "\n",
    "mols = {}\n",
    "\n",
    "for mol in molecules_order:\n",
    "    if mol != \"GNP\":\n",
    "        mols[mol] = list()\n",
    "\n",
    "for i in range (0, len(mols_temp)):\n",
    "    docked = mols_temp[i]\n",
    "    mol_num = int(docked.GetProp(\"i_m_source_file_index\")) - 1\n",
    "    code = molecules_order[mol_num]\n",
    "    if(code != \"GNP\"):\n",
    "        mols[code].append(docked)\n",
    "\n",
    "molecules_order.remove(\"GNP\")\n",
    "\n",
    "for code, poses in mols.items():\n",
    "    conf_count = 0\n",
    "    poses_temp = poses\n",
    "    mols[code] = list()\n",
    "    for pose in poses_temp:\n",
    "        if conf_count < 10:\n",
    "            mols[code].append(pose)\n",
    "            conf_count = conf_count + 1\n",
    "\n",
    "print(mols)\n",
    "mols_xp = mols"
   ]
  },
  {
   "cell_type": "code",
   "execution_count": null,
   "metadata": {},
   "outputs": [],
   "source": [
    "# calculate rms for best ten poses\n",
    "\n",
    "rms_res = []\n",
    "for code, al_mol in aligned.items():\n",
    "    conf_count = 0\n",
    "    for doc_mol in mols[code]:\n",
    "        spy_al = spyrmsd.molecule.Molecule.from_rdkit(al_mol)\n",
    "        spy_doc = spyrmsd.molecule.Molecule.from_rdkit(doc_mol)\n",
    "        rms = spyrmsd.rmsd.rmsdwrapper(spy_al, spy_doc, symmetry=True, strip=True)\n",
    "        if(conf_count < 10):\n",
    "            rms_res.append({\"code\": code, \"confId\": conf_count, \"rms\": rms[0]})\n",
    "        conf_count = conf_count + 1\n",
    "\n",
    "df = pd.DataFrame.from_records(rms_res)\n",
    "display(df.head())"
   ]
  },
  {
   "cell_type": "code",
   "execution_count": null,
   "metadata": {},
   "outputs": [],
   "source": [
    "# return df with poses with lowest rms\n",
    "min_rms_indeces = df.groupby('code')['rms'].idxmin()\n",
    "min_df_xp = df.loc[min_rms_indeces, ['code', 'confId', 'rms']].reset_index(drop=True)\n",
    "display(min_df_xp)\n",
    "\n",
    "df[\"rank_rms\"] = df.groupby(\"code\")[\"rms\"].rank(method=\"dense\", ascending=True).astype(int)\n",
    "out_path = f\"../materials/graphs/glide_xp.csv\"\n",
    "df.to_csv(out_path, index=False)"
   ]
  },
  {
   "cell_type": "code",
   "execution_count": null,
   "metadata": {},
   "outputs": [],
   "source": [
    "df_merged_xp = min_df_xp.merge(min_df_moe, on=\"code\", suffixes=(\"_xp\", \"_moe\"))\n",
    "display(df_merged_xp.head())"
   ]
  },
  {
   "cell_type": "code",
   "execution_count": null,
   "metadata": {},
   "outputs": [],
   "source": [
    "# show graph\n",
    "fig = px.scatter(df_merged_xp, x=\"rms_xp\", y=\"rms_moe\", color=\"code\",\n",
    "            labels={\n",
    "                    \"code\": \"PDB Code\",\n",
    "                    \"rms_xp\": \"RMS Glide XP\",\n",
    "                    \"rms_moe\": \"RMS MOE\"\n",
    "                },\n",
    "            title=\"Glide XP x MOE\")\n",
    "fig.update_traces(textposition=\"bottom right\")\n",
    "\n",
    "fig.add_trace(go.Scatter(\n",
    "    x=np.linspace(0, 5, 100),\n",
    "    y=np.linspace(0, 5, 100),\n",
    "    mode=\"lines\",\n",
    "    name=\"y = x\",\n",
    "    line=dict(color=\"red\", width=1.5)\n",
    "))\n",
    "\n",
    "\n",
    "fig.show()"
   ]
  },
  {
   "cell_type": "markdown",
   "metadata": {},
   "source": [
    "## Glide SP"
   ]
  },
  {
   "cell_type": "code",
   "execution_count": null,
   "metadata": {},
   "outputs": [],
   "source": [
    "# read top ten molecules from Glide SP\n",
    "docked_path = \"../materials/docking/glide/glide_sp_docked.sdf\"\n",
    "with Chem.SDMolSupplier(docked_path, removeHs=True) as w:\n",
    "    mols_temp = [mol for mol in w]\n",
    "\n",
    "molecules_order.append(\"GNP\")\n",
    "molecules_order.sort()\n",
    "\n",
    "mols = {}\n",
    "\n",
    "for mol in molecules_order:\n",
    "    if mol != \"GNP\":\n",
    "        mols[mol] = list()\n",
    "\n",
    "for i in range (0, len(mols_temp)):\n",
    "    docked = mols_temp[i]\n",
    "    mol_num = int(docked.GetProp(\"i_m_source_file_index\")) - 1\n",
    "    code = molecules_order[mol_num]\n",
    "    if(code != \"GNP\"):\n",
    "        mols[code].append(docked)\n",
    "\n",
    "molecules_order.remove(\"GNP\")\n",
    "\n",
    "for code, poses in mols.items():\n",
    "    conf_count = 0\n",
    "    poses_temp = poses\n",
    "    mols[code] = list()\n",
    "    for pose in poses_temp:\n",
    "        if conf_count < 10:\n",
    "            mols[code].append(pose)\n",
    "            conf_count = conf_count + 1\n",
    "\n",
    "print(mols)\n",
    "mols_sp = mols"
   ]
  },
  {
   "cell_type": "code",
   "execution_count": null,
   "metadata": {},
   "outputs": [],
   "source": [
    "# calculate rms for best ten poses\n",
    "\n",
    "rms_res = []\n",
    "for code, al_mol in aligned.items():\n",
    "    conf_count = 0\n",
    "    for doc_mol in mols[code]:\n",
    "        spy_al = spyrmsd.molecule.Molecule.from_rdkit(al_mol)\n",
    "        spy_doc = spyrmsd.molecule.Molecule.from_rdkit(doc_mol)\n",
    "        rms = spyrmsd.rmsd.rmsdwrapper(spy_al, spy_doc, symmetry=True, strip=True)\n",
    "        if(conf_count < 10):\n",
    "            rms_res.append({\"code\": code, \"confId\": conf_count, \"rms\": rms[0]})\n",
    "        conf_count = conf_count + 1\n",
    "\n",
    "df = pd.DataFrame.from_records(rms_res)\n",
    "display(df.head())"
   ]
  },
  {
   "cell_type": "code",
   "execution_count": null,
   "metadata": {},
   "outputs": [],
   "source": [
    "# return df with poses with lowest rms\n",
    "min_rms_indeces = df.groupby('code')['rms'].idxmin()\n",
    "min_df_sp = df.loc[min_rms_indeces, ['code', 'confId', 'rms']].reset_index(drop=True)\n",
    "display(min_df_sp)\n",
    "\n",
    "df[\"rank_rms\"] = df.groupby(\"code\")[\"rms\"].rank(method=\"dense\", ascending=True).astype(int)\n",
    "out_path = f\"../materials/graphs/glide_sp.csv\"\n",
    "df.to_csv(out_path, index=False)"
   ]
  },
  {
   "cell_type": "code",
   "execution_count": null,
   "metadata": {},
   "outputs": [],
   "source": [
    "df_merged_sp = min_df_sp.merge(min_df_moe, on=\"code\", suffixes=(\"_sp\", \"_moe\"))\n",
    "display(df_merged_sp.head())"
   ]
  },
  {
   "cell_type": "code",
   "execution_count": null,
   "metadata": {},
   "outputs": [],
   "source": [
    "# show graph\n",
    "fig = px.scatter(df_merged_sp, x=\"rms_sp\", y=\"rms_moe\", color=\"code\",\n",
    "            labels={\n",
    "                    \"code\": \"PDB Code\",\n",
    "                    \"rms_sp\": \"RMS Glide SP\",\n",
    "                    \"rms_moe\": \"RMS MOE\"\n",
    "                },\n",
    "            title=\"Glide SP x MOE\")\n",
    "fig.update_traces(textposition=\"bottom right\")\n",
    "\n",
    "fig.add_trace(go.Scatter(\n",
    "    x=np.linspace(0, 5, 100),\n",
    "    y=np.linspace(0, 5, 100),\n",
    "    mode=\"lines\",\n",
    "    name=\"y = x\",\n",
    "    line=dict(color=\"red\", width=1.5)\n",
    "))\n",
    "\n",
    "\n",
    "fig.show()"
   ]
  },
  {
   "cell_type": "markdown",
   "metadata": {},
   "source": [
    "## Glide HTVS"
   ]
  },
  {
   "cell_type": "code",
   "execution_count": null,
   "metadata": {},
   "outputs": [],
   "source": [
    "# read top ten molecules from Glide XP\n",
    "docked_path = \"../materials/docking/glide/glide_htvs_docked.sdf\"\n",
    "with Chem.SDMolSupplier(docked_path, removeHs=True) as w:\n",
    "    mols_temp = [mol for mol in w]\n",
    "\n",
    "molecules_order.append(\"GNP\")\n",
    "molecules_order.sort()\n",
    "\n",
    "mols = {}\n",
    "\n",
    "for mol in molecules_order:\n",
    "    if mol != \"GNP\":\n",
    "        mols[mol] = list()\n",
    "\n",
    "for i in range (0, len(mols_temp)):\n",
    "    docked = mols_temp[i]\n",
    "    mol_num = int(docked.GetProp(\"i_m_source_file_index\")) - 1\n",
    "    code = molecules_order[mol_num]\n",
    "    if(code != \"GNP\"):\n",
    "        mols[code].append(docked)\n",
    "\n",
    "molecules_order.remove(\"GNP\")\n",
    "\n",
    "for code, poses in mols.items():\n",
    "    conf_count = 0\n",
    "    poses_temp = poses\n",
    "    mols[code] = list()\n",
    "    for pose in poses_temp:\n",
    "        if conf_count < 10:\n",
    "            mols[code].append(pose)\n",
    "            conf_count = conf_count + 1\n",
    "\n",
    "print(mols)\n",
    "mols_htvs = mols"
   ]
  },
  {
   "cell_type": "code",
   "execution_count": null,
   "metadata": {},
   "outputs": [],
   "source": [
    "\n",
    "# calculate rms for best ten poses\n",
    "\n",
    "rms_res = []\n",
    "for code, al_mol in aligned.items():\n",
    "    conf_count = 0\n",
    "    for doc_mol in mols[code]:\n",
    "        spy_al = spyrmsd.molecule.Molecule.from_rdkit(al_mol)\n",
    "        spy_doc = spyrmsd.molecule.Molecule.from_rdkit(doc_mol)\n",
    "        rms = spyrmsd.rmsd.rmsdwrapper(spy_al, spy_doc, symmetry=True, strip=True)\n",
    "        if(conf_count < 10):\n",
    "            rms_res.append({\"code\": code, \"confId\": conf_count, \"rms\": rms[0]})\n",
    "        conf_count = conf_count + 1\n",
    "\n",
    "df = pd.DataFrame.from_records(rms_res)\n",
    "display(df.head())"
   ]
  },
  {
   "cell_type": "code",
   "execution_count": null,
   "metadata": {},
   "outputs": [],
   "source": [
    "# return df with poses with lowest rms\n",
    "min_rms_indeces = df.groupby('code')['rms'].idxmin()\n",
    "min_df_htvs = df.loc[min_rms_indeces, ['code', 'confId', 'rms']].reset_index(drop=True)\n",
    "display(min_df_htvs)\n",
    "\n",
    "df[\"rank_rms\"] = df.groupby(\"code\")[\"rms\"].rank(method=\"dense\", ascending=True).astype(int)\n",
    "out_path = f\"../materials/graphs/glide_htvs.csv\"\n",
    "df.to_csv(out_path, index=False)"
   ]
  },
  {
   "cell_type": "code",
   "execution_count": null,
   "metadata": {},
   "outputs": [],
   "source": [
    "df_merged_htvs = min_df_htvs.merge(min_df_moe, on=\"code\", suffixes=(\"_htvs\", \"_moe\"))\n",
    "display(df_merged_htvs.head())"
   ]
  },
  {
   "cell_type": "code",
   "execution_count": null,
   "metadata": {},
   "outputs": [],
   "source": [
    "# show graph\n",
    "fig = px.scatter(df_merged_htvs, x=\"rms_htvs\", y=\"rms_moe\", color=\"code\",\n",
    "            labels={\n",
    "                    \"code\": \"PDB Code\",\n",
    "                    \"rms_htvs\": \"RMS Glide HTVS\",\n",
    "                    \"rms_moe\": \"RMS MOE\"\n",
    "                },\n",
    "            title=\"Glide HTVS x MOE\")\n",
    "fig.update_traces(textposition=\"bottom right\")\n",
    "\n",
    "fig.add_trace(go.Scatter(\n",
    "    x=np.linspace(0, 5, 100),\n",
    "    y=np.linspace(0, 5, 100),\n",
    "    mode=\"lines\",\n",
    "    name=\"y = x\",\n",
    "    line=dict(color=\"red\", width=1.5)\n",
    "))\n",
    "\n",
    "\n",
    "fig.show()"
   ]
  }
 ],
 "metadata": {
  "kernelspec": {
   "display_name": "base",
   "language": "python",
   "name": "python3"
  },
  "language_info": {
   "codemirror_mode": {
    "name": "ipython",
    "version": 3
   },
   "file_extension": ".py",
   "mimetype": "text/x-python",
   "name": "python",
   "nbconvert_exporter": "python",
   "pygments_lexer": "ipython3",
   "version": "3.13.2"
  }
 },
 "nbformat": 4,
 "nbformat_minor": 2
}
