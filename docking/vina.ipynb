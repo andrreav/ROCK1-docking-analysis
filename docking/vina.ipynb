{
 "cells": [
  {
   "cell_type": "markdown",
   "metadata": {},
   "source": [
    "# Calculate RMS - AutoDock Vina 1.2.7 "
   ]
  },
  {
   "cell_type": "code",
   "execution_count": null,
   "metadata": {},
   "outputs": [],
   "source": [
    "# import libraries\n",
    "import pandas as pd\n",
    "from IPython.display import display\n",
    "from rdkit import Chem\n",
    "from rdkit.Chem import Draw\n",
    "from rdkit.Chem import AllChem\n",
    "from spyrmsd import rmsd\n",
    "import spyrmsd.molecule\n",
    "import spyrmsd.rmsd\n",
    "import numpy as np\n",
    "import plotly.express as px\n",
    "import plotly.graph_objects as go\n",
    "import spyrmsd.rmsd"
   ]
  },
  {
   "cell_type": "code",
   "execution_count": null,
   "metadata": {},
   "outputs": [],
   "source": [
    "# define complex-ligand dictionary\n",
    "complex_ligand = {\n",
    "'1S1C':'GNP',\n",
    "'2ESM': 'M77',\n",
    "'2ETK': 'HFS',\n",
    "'2ETR': 'Y27',\n",
    "'2V55': 'ANP',\n",
    "'3D9V': 'H52',\n",
    "'3NCZ': '3NC',\n",
    "'3TV7': '07Q',\n",
    "'3TWJ': '07R',\n",
    "'3V8S': '0HD',\n",
    "'4W7P': '3J7',\n",
    "'4YVC': '4KH',\n",
    "'4YVE': '4KK',\n",
    "'5BML': '4TW',\n",
    "'5HVU': '65R',\n",
    "'5KKS': '6U1',\n",
    "'5KKT': '6U2',\n",
    "'5UZJ': '8UV',\n",
    "'5WNE': 'B4J',\n",
    "'5WNF': 'B4V',\n",
    "'5WNG': 'B4Y',\n",
    "'5WNH': 'B5G',\n",
    "'6E9W': 'J0P',\n",
    "'7JOU': 'VFS',\n",
    "'7S25': '86G',\n",
    "'7S26': '86K',\n",
    "}\n",
    "\n",
    "complex_ligand = dict(sorted(complex_ligand.items(), key=lambda item: item[1]))\n",
    "\n",
    "molecules_order = []\n",
    "for complex, ligand in complex_ligand.items():\n",
    "    molecules_order.append(ligand)\n",
    "\n",
    "print(molecules_order)"
   ]
  },
  {
   "cell_type": "code",
   "execution_count": null,
   "metadata": {},
   "outputs": [],
   "source": [
    "# read aligned poses\n",
    "aligned_path = \"../materials/aligned_molecules.sdf\"\n",
    "with Chem.SDMolSupplier(aligned_path) as w:\n",
    "    al_mols = [mol for mol in w]\n",
    "\n",
    "aligned = {}\n",
    "i = 0\n",
    "for m in al_mols:\n",
    "    code = molecules_order[i]\n",
    "    if(code != 'GNP'):\n",
    "        aligned[molecules_order[i]] = m\n",
    "    i = i + 1\n",
    "\n",
    "print(aligned)"
   ]
  },
  {
   "cell_type": "code",
   "execution_count": null,
   "metadata": {},
   "outputs": [],
   "source": [
    "# read top ten molecules from vina \n",
    "docked_path_vina = f\"../materials/docking/vina/vina127_docked.sdf\"\n",
    "with Chem.SDMolSupplier(docked_path_vina, removeHs=True) as w:\n",
    "    mols_temp_vina = [mol for mol in w]\n",
    "\n",
    "mols_vina = {}\n",
    "mol_count = 0\n",
    "\n",
    "for i in range (0, len(mols_temp_vina)):\n",
    "    docked = mols_temp_vina[i]\n",
    "    confId = int(docked.GetProp(\"_ConfID\"))\n",
    "    if(confId == 0):\n",
    "        code = molecules_order[mol_count]\n",
    "        mols_vina[code] = list()\n",
    "        mol_count = mol_count + 1\n",
    "    mols_vina[code].append(docked)\n",
    "    \n",
    "print(mols_vina)"
   ]
  },
  {
   "cell_type": "code",
   "execution_count": null,
   "metadata": {},
   "outputs": [],
   "source": [
    "# recalcul RMS between Vina docked and aligned\n",
    "\n",
    "rms_res_vina = []\n",
    "for code, al_mol in aligned.items():\n",
    "    conf_count = 0\n",
    "    for doc_mol in mols_vina[code]:\n",
    "        spy_al = spyrmsd.molecule.Molecule.from_rdkit(al_mol)\n",
    "        spy_doc = spyrmsd.molecule.Molecule.from_rdkit(doc_mol)\n",
    "        rms = spyrmsd.rmsd.rmsdwrapper(spy_al, spy_doc, symmetry=True, strip=True)\n",
    "        if(conf_count < 10):\n",
    "            rms_res_vina.append({\"code\": code, \"confId\": conf_count, \"rms\": rms[0]})\n",
    "        conf_count = conf_count + 1\n",
    "\n",
    "df_vina = pd.DataFrame.from_records(rms_res_vina)\n",
    "display(df_vina.head())\n",
    "\n",
    "\n",
    "out_path = f\"../materials/graphs/vina.csv\"\n",
    "df_vina.to_csv(out_path, index=False)"
   ]
  },
  {
   "cell_type": "code",
   "execution_count": null,
   "metadata": {},
   "outputs": [],
   "source": [
    "# return df with poses with lowest rms\n",
    "min_rms_indeces_vina = df_vina.groupby('code')['rms'].idxmin()\n",
    "min_rms_df_vina = df_vina.loc[min_rms_indeces_vina, ['code', 'confId', 'rms']].reset_index(drop=True)\n",
    "display(min_rms_df_vina)"
   ]
  }
 ],
 "metadata": {
  "kernelspec": {
   "display_name": "base",
   "language": "python",
   "name": "python3"
  },
  "language_info": {
   "name": "python",
   "version": "3.10.14"
  }
 },
 "nbformat": 4,
 "nbformat_minor": 2
}
