{
 "cells": [
  {
   "cell_type": "markdown",
   "metadata": {},
   "source": [
    "# IFs by PLIP"
   ]
  },
  {
   "cell_type": "code",
   "execution_count": null,
   "metadata": {},
   "outputs": [],
   "source": [
    "# import libraries\n",
    "import pandas as pd\n",
    "pd.set_option('future.no_silent_downcasting', True)\n",
    "from rdkit import Chem\n",
    "from rdkit import DataStructs\n",
    "import sys\n",
    "sys.path.insert(0, './')\n",
    "from descriptors import calc_plip"
   ]
  },
  {
   "cell_type": "code",
   "execution_count": null,
   "metadata": {},
   "outputs": [],
   "source": [
    "# read protein file to string\n",
    "protein_file = \"../materials/2etr.pdb\"\n",
    "protein_mol = Chem.MolFromPDBFile(protein_file, removeHs=False)\n",
    "Chem.Kekulize(protein_mol)\n",
    "protein = Chem.MolToPDBBlock(protein_mol)\n",
    "print(f\"Num of atoms in protein: {protein_mol.GetNumAtoms()}\")"
   ]
  },
  {
   "cell_type": "code",
   "execution_count": null,
   "metadata": {},
   "outputs": [],
   "source": [
    "# define complex-ligand dictionary\n",
    "complex_ligand = {\n",
    "'1S1C':'GNP',\n",
    "'2ESM': 'M77',\n",
    "'2ETK': 'HFS',\n",
    "'2ETR': 'Y27',\n",
    "'2V55': 'ANP',\n",
    "'3D9V': 'H52',\n",
    "'3NCZ': '3NC',\n",
    "'3TV7': '07Q',\n",
    "'3TWJ': '07R',\n",
    "'3V8S': '0HD',\n",
    "'4W7P': '3J7',\n",
    "'4YVC': '4KH',\n",
    "'4YVE': '4KK',\n",
    "'5BML': '4TW',\n",
    "'5HVU': '65R',\n",
    "'5KKS': '6U1',\n",
    "'5KKT': '6U2',\n",
    "'5UZJ': '8UV',\n",
    "'5WNE': 'B4J',\n",
    "'5WNF': 'B4V',\n",
    "'5WNG': 'B4Y',\n",
    "'5WNH': 'B5G',\n",
    "'6E9W': 'J0P',\n",
    "'7JOU': 'VFS',\n",
    "'7S25': '86G',\n",
    "'7S26': '86K',\n",
    "}\n",
    "\n",
    "complex_ligand = dict(sorted(complex_ligand.items(), key=lambda item: item[1]))\n",
    "\n",
    "molecules_order = []\n",
    "for complex, ligand in complex_ligand.items():\n",
    "    molecules_order.append(ligand)\n",
    "\n",
    "print(molecules_order)\n"
   ]
  },
  {
   "cell_type": "code",
   "execution_count": null,
   "metadata": {},
   "outputs": [],
   "source": [
    "# read aligned (crystallized) dataset\n",
    "aligned_dataset_path = \"../materials/aligned_molecules.sdf\"\n",
    "with Chem.SDMolSupplier(aligned_dataset_path, removeHs=False) as w:\n",
    "    mols = [mol for mol in w]\n",
    "\n",
    "mols_temp = []\n",
    "i = 0\n",
    "for mol in mols:\n",
    "    code = molecules_order[i]\n",
    "    if (code != 'GNP'):\n",
    "        Chem.Kekulize(mol)\n",
    "        mols_temp.append(mol)\n",
    "    i = i + 1\n",
    "\n",
    "molecules_order.remove(\"GNP\")\n",
    "aligned_mols = [tuple([molecules_order[i], mol]) for i, mol in enumerate(mols_temp)]\n"
   ]
  },
  {
   "cell_type": "code",
   "execution_count": null,
   "metadata": {},
   "outputs": [],
   "source": [
    "# calculate IFs for aligned dataset\n",
    "fps_aligned = calc_plip(aligned_mols, protein)\n",
    "fps_aligned = fps_aligned.drop(columns=[\"Pose_ID\"])\n",
    "fps_aligned.index = molecules_order\n",
    "fps_aligned = fps_aligned.fillna(value=False)\n",
    "fps_aligned.replace({False: 0, True: 1}, inplace=True)"
   ]
  },
  {
   "cell_type": "code",
   "execution_count": null,
   "metadata": {},
   "outputs": [],
   "source": [
    "# calculate percetage of interactions and save to file\n",
    "percent_row =  []\n",
    "rows = len(fps_aligned.index)\n",
    "for col in fps_aligned.columns:\n",
    "    percent_row.append(len(fps_aligned[fps_aligned[col] == 1].index)/rows * 100)\n",
    "\n",
    "fps_aligned.loc[\"Percentage\"] = percent_row\n",
    "\n",
    "fps_aligned = fps_aligned[sorted(fps_aligned.columns, key=lambda col: fps_aligned.loc[\"Percentage\", col], reverse=True)]\n",
    "display(fps_aligned)\n",
    "\n",
    "res_path = f\"../materials/graphs/ifs_aligned_plip.csv\"\n",
    "fps_aligned.to_csv(res_path, index=True, index_label='code')\n",
    "\n",
    "res_path = f\"../materials/rescore/ifs_aligned_plip.csv\"\n",
    "fps_aligned.to_csv(res_path, index=True, index_label='code')"
   ]
  }
 ],
 "metadata": {
  "kernelspec": {
   "display_name": "base",
   "language": "python",
   "name": "python3"
  },
  "language_info": {
   "codemirror_mode": {
    "name": "ipython",
    "version": 3
   },
   "file_extension": ".py",
   "mimetype": "text/x-python",
   "name": "python",
   "nbconvert_exporter": "python",
   "pygments_lexer": "ipython3",
   "version": "3.10.13"
  }
 },
 "nbformat": 4,
 "nbformat_minor": 2
}
