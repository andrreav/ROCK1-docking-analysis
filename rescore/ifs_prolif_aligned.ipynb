{
 "cells": [
  {
   "cell_type": "markdown",
   "metadata": {},
   "source": [
    "# IFs by ProLIF"
   ]
  },
  {
   "cell_type": "code",
   "execution_count": null,
   "metadata": {},
   "outputs": [],
   "source": [
    "# import libraries\n",
    "import pandas as pd\n",
    "pd.set_option('future.no_silent_downcasting', True)\n",
    "import prolif as plf\n",
    "from rdkit import Chem\n",
    "from rdkit import DataStructs\n",
    "import sys\n",
    "from IPython.display import display"
   ]
  },
  {
   "cell_type": "code",
   "execution_count": null,
   "metadata": {},
   "outputs": [],
   "source": [
    "# read protein file to string\n",
    "protein_file = \"../materials/2etr.pdb\"\n",
    "rdkit_prot = Chem.MolFromPDBFile(protein_file, removeHs=False)\n",
    "protein = plf.Molecule(rdkit_prot)"
   ]
  },
  {
   "cell_type": "code",
   "execution_count": null,
   "metadata": {},
   "outputs": [],
   "source": [
    "# define complex-ligand dictionary\n",
    "complex_ligand = {\n",
    "'1S1C':'GNP',\n",
    "'2ESM': 'M77',\n",
    "'2ETK': 'HFS',\n",
    "'2ETR': 'Y27',\n",
    "'2V55': 'ANP',\n",
    "'3D9V': 'H52',\n",
    "'3NCZ': '3NC',\n",
    "'3TV7': '07Q',\n",
    "'3TWJ': '07R',\n",
    "'3V8S': '0HD',\n",
    "'4W7P': '3J7',\n",
    "'4YVC': '4KH',\n",
    "'4YVE': '4KK',\n",
    "'5BML': '4TW',\n",
    "'5HVU': '65R',\n",
    "'5KKS': '6U1',\n",
    "'5KKT': '6U2',\n",
    "'5UZJ': '8UV',\n",
    "'5WNE': 'B4J',\n",
    "'5WNF': 'B4V',\n",
    "'5WNG': 'B4Y',\n",
    "'5WNH': 'B5G',\n",
    "'6E9W': 'J0P',\n",
    "'7JOU': 'VFS',\n",
    "'7S25': '86G',\n",
    "'7S26': '86K',\n",
    "}\n",
    "\n",
    "complex_ligand = dict(sorted(complex_ligand.items(), key=lambda item: item[1]))\n",
    "\n",
    "molecules_order = []\n",
    "for complex, ligand in complex_ligand.items():\n",
    "    molecules_order.append(ligand)\n",
    "\n",
    "print(molecules_order)\n"
   ]
  },
  {
   "cell_type": "code",
   "execution_count": null,
   "metadata": {},
   "outputs": [],
   "source": [
    "# read aligned (crystallized) dataset\n",
    "aligned_dataset_path = \"../materials/aligned_molecules.sdf\"\n",
    "with Chem.SDMolSupplier(aligned_dataset_path, removeHs=False) as w:\n",
    "    mols = [mol for mol in w]\n",
    "\n",
    "aligned_mols = []\n",
    "i = 0\n",
    "for mol in mols:\n",
    "    code = molecules_order[i]\n",
    "    if (code != 'GNP'):\n",
    "        aligned_mols.append(plf.Molecule.from_rdkit(mol))\n",
    "    i = i + 1\n",
    "\n",
    "molecules_order.remove(\"GNP\")"
   ]
  },
  {
   "cell_type": "code",
   "execution_count": null,
   "metadata": {},
   "outputs": [],
   "source": [
    "# calculate IFs for aligned dataset\n",
    "aligned_fps_list = []\n",
    "i = 0\n",
    "for al in aligned_mols:\n",
    "    code = molecules_order[i]\n",
    "    fp_ref = plf.Fingerprint()\n",
    "    fp_ref.run_from_iterable([al], protein, progress=False)\n",
    "    df_ref = fp_ref.to_dataframe(index_col=\"Pose\")\n",
    "    df_ref.rename(index={0:-1}, inplace=True)\n",
    "    df_ref.rename(columns={str(al[0].resid): molecules_order[i]}, inplace=True)\n",
    "\n",
    "    df_aligned_new = df_ref.copy()\n",
    "    df_aligned_new.index = [code]\n",
    "    new_columns = pd.MultiIndex.from_tuples(\n",
    "        [(col[1], col[2]) for col in df_aligned_new.columns], \n",
    "        names=['Residue', 'Interaction']\n",
    "    )\n",
    "    \n",
    "    df_aligned_new.columns = new_columns\n",
    "    df_aligned_new.columns = [\"{}_{}\".format(res, interaction) for res, interaction in df_aligned_new.columns]\n",
    "\n",
    "    aligned_fps_list.append(df_aligned_new)\n",
    "\n",
    "    i = i + 1\n",
    "\n",
    "\n",
    "# save IFS for aligned dataset\n",
    "ifs_aligned_df = pd.concat(aligned_fps_list, axis=0)\n",
    "ifs_aligned_df = ifs_aligned_df.fillna(False)\n",
    "display(ifs_aligned_df)"
   ]
  },
  {
   "cell_type": "code",
   "execution_count": null,
   "metadata": {},
   "outputs": [],
   "source": [
    "# calculate percetage of interactions and save to file\n",
    "\n",
    "ifs_aligned_df.replace({False: 0, True: 1}, inplace=True)\n",
    "percent_row =  []\n",
    "rows = len(ifs_aligned_df.index)\n",
    "for col in ifs_aligned_df.columns:\n",
    "    percent_row.append(len(ifs_aligned_df[ifs_aligned_df[col] == 1].index)/rows * 100)\n",
    "\n",
    "ifs_aligned_df.loc[\"Percentage\"] = percent_row\n",
    "\n",
    "ifs_aligned_df = ifs_aligned_df[sorted(ifs_aligned_df.columns, key=lambda col: ifs_aligned_df.loc[\"Percentage\", col], reverse=True)]\n",
    "display(ifs_aligned_df)\n",
    "\n",
    "\n",
    "res_path = f\"../materials/graphs/ifs_aligned_prolif.csv\"\n",
    "ifs_aligned_df.to_csv(res_path, index=True, index_label='code')\n",
    "\n",
    "res_path = f\"../materials/rescore/ifs_aligned_prolif.csv\"\n",
    "ifs_aligned_df.to_csv(res_path, index=True, index_label='code')"
   ]
  }
 ],
 "metadata": {
  "kernelspec": {
   "display_name": "base",
   "language": "python",
   "name": "python3"
  },
  "language_info": {
   "codemirror_mode": {
    "name": "ipython",
    "version": 3
   },
   "file_extension": ".py",
   "mimetype": "text/x-python",
   "name": "python",
   "nbconvert_exporter": "python",
   "pygments_lexer": "ipython3",
   "version": "3.10.13"
  }
 },
 "nbformat": 4,
 "nbformat_minor": 2
}
