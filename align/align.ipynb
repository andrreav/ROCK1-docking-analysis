{
 "cells": [
  {
   "cell_type": "markdown",
   "metadata": {},
   "source": [
    "# PDB ligands - align\n",
    "* download PDB structures with crystalized ligands (already downloaded: Zenodo -> materials -> ligands_pdb and proteins_pdb)\n",
    "* align each to a ROCK1 strucutre with PDB-ID 2ETR"
   ]
  },
  {
   "cell_type": "markdown",
   "metadata": {},
   "source": [
    "### Aligning"
   ]
  },
  {
   "cell_type": "code",
   "execution_count": null,
   "metadata": {},
   "outputs": [],
   "source": [
    "# import libraries\n",
    "import biotite.structure as struc\n",
    "import biotite.structure.io.pdb as pdb\n",
    "from biotite.structure import superimpose_homologs\n",
    "import numpy as np\n",
    "from rdkit import Chem\n",
    "from rdkit.Chem import AllChem\n",
    "from rdkit.Chem.MolStandardize import rdMolStandardize\n",
    "import tempfile"
   ]
  },
  {
   "cell_type": "code",
   "execution_count": null,
   "metadata": {},
   "outputs": [],
   "source": [
    "# define complex-ligand dictionary, containing pairs of ROCK1-s from PDB and their crystallized ligand\n",
    "complex_ligand = {\n",
    "'1S1C':'GNP',\n",
    "'2ESM': 'M77',\n",
    "'2ETK': 'HFS',\n",
    "'2ETR': 'Y27',\n",
    "'2V55': 'ANP',\n",
    "'3D9V': 'H52',\n",
    "'3NCZ': '3NC',\n",
    "'3TV7': '07Q',\n",
    "'3TWJ': '07R',\n",
    "'3V8S': '0HD',\n",
    "'4W7P': '3J7',\n",
    "'4YVC': '4KH',\n",
    "'4YVE': '4KK',\n",
    "'5BML': '4TW',\n",
    "'5HVU': '65R',\n",
    "'5KKS': '6U1',\n",
    "'5KKT': '6U2',\n",
    "'5UZJ': '8UV',\n",
    "'5WNE': 'B4J',\n",
    "'5WNF': 'B4V',\n",
    "'5WNG': 'B4Y',\n",
    "'5WNH': 'B5G',\n",
    "'6E9W': 'J0P',\n",
    "'7JOU': 'VFS',\n",
    "'7S25': '86G',\n",
    "'7S26': '86K',\n",
    "}\n",
    "\n",
    "complex_ligand = dict(sorted(complex_ligand.items(), key=lambda item: item[1]))\n",
    "print(complex_ligand)"
   ]
  },
  {
   "cell_type": "code",
   "execution_count": null,
   "metadata": {},
   "outputs": [],
   "source": [
    "# define function: align PDB structure to refernce + return aligned ligand\n",
    "def align_molecules(complex, ligand):\n",
    "    print(f\"complex: {complex}, ligand: {ligand}\")\n",
    "    proteins_path = \"../materials/proteins_pdb/\"\n",
    "    ligands_path = \"../materials/ligands_pdb/\"\n",
    "\n",
    "    ref_pdb = pdb.PDBFile.read(proteins_path + \"2etr.pdb\") # reference\n",
    "    ref_atoms = ref_pdb.get_structure()[0]\n",
    "    complex_pdb = pdb.PDBFile.read(f\"{proteins_path}{complex}.pdb\") # to align\n",
    "    complex_atoms = complex_pdb.get_structure()[0]\n",
    "    amino_acid_residues = [\n",
    "        \"ALA\", \"ARG\", \"ASN\", \"ASP\", \"CYS\", \"GLU\", \"GLN\", \"GLY\", \"HIS\", \"ILE\",\n",
    "        \"LEU\", \"LYS\", \"MET\", \"PHE\", \"PRO\", \"SER\", \"THR\", \"TRP\", \"TYR\", \"VAL\"\n",
    "    ]\n",
    "\n",
    "    # Identify ligand atoms (non-standard residues)\n",
    "    is_ligand_complex = complex_atoms.chain_id == \"HET A\"\n",
    "    is_ligand_ref = ref_atoms.chain_id == \"HET A\"\n",
    "\n",
    "    # Identify atoms belonging to Chain A\n",
    "    is_chain_a_complex = complex_atoms.chain_id == \"A\"\n",
    "    is_chain_a_ref = ref_atoms.chain_id == \"A\"\n",
    "            \n",
    "    # Keep Chain A **OR** ligands\n",
    "    complex_atoms = complex_atoms[is_chain_a_complex | is_ligand_complex]\n",
    "    ref_atoms = ref_atoms[is_chain_a_ref | is_ligand_ref]\n",
    "            \n",
    "    fitted,_,_,_ = superimpose_homologs(ref_atoms, complex_atoms)\n",
    "    is_ligand = ~np.isin(fitted.res_name, amino_acid_residues+['HOH'])\n",
    "    ligand_atoms = fitted[is_ligand]\n",
    "\n",
    "    # the below roundabout procedure is needed in order to not have problems with bond orders etc\n",
    "    # Create a temporary PDB file\n",
    "    with tempfile.NamedTemporaryFile(suffix=\".pdb\", delete=False) as temp_pdb:\n",
    "        out_pdb = pdb.PDBFile()\n",
    "        out_pdb.set_structure(ligand_atoms)\n",
    "        out_pdb.write(temp_pdb.name)\n",
    "        temp_pdb_path = temp_pdb.name  # Store filename\n",
    "\n",
    "    # Convert PDB to RDKit Mol object\n",
    "    tmp = Chem.MolFromPDBFile(temp_pdb_path)\n",
    "    largest_fragment = rdMolStandardize.LargestFragmentChooser()\n",
    "    tmp = largest_fragment.choose(tmp)\n",
    "    #this is the SDF provided by PDB for 6e9w\n",
    "    template = Chem.MolFromMolFile(f\"{ligands_path}{ligand}_ideal.sdf\")\n",
    "\n",
    "    #this is the aligned molecule you can use for calculating RMSDs\n",
    "    mol = AllChem.AssignBondOrdersFromTemplate(template, tmp)\n",
    "\n",
    "    return mol"
   ]
  },
  {
   "cell_type": "code",
   "execution_count": null,
   "metadata": {},
   "outputs": [],
   "source": [
    "# iterate over the dictionary and save aligned molecules\n",
    "molecules = []\n",
    "molecules_order = []\n",
    "for complex, ligand in complex_ligand.items():\n",
    "    mol = align_molecules(complex, ligand)\n",
    "    molecules.append(mol)\n",
    "    molecules_order.append(ligand)\n"
   ]
  },
  {
   "cell_type": "code",
   "execution_count": null,
   "metadata": {},
   "outputs": [],
   "source": [
    "with Chem.SDWriter(\"../materials/aligned_molecules.sdf\") as wri:\n",
    "  for mol in molecules:\n",
    "    wri.write(mol)\n",
    "    \n",
    "wri.close()"
   ]
  }
 ],
 "metadata": {
  "kernelspec": {
   "display_name": "base",
   "language": "python",
   "name": "python3"
  },
  "language_info": {
   "codemirror_mode": {
    "name": "ipython",
    "version": 3
   },
   "file_extension": ".py",
   "mimetype": "text/x-python",
   "name": "python",
   "nbconvert_exporter": "python",
   "pygments_lexer": "ipython3",
   "version": "3.13.2"
  }
 },
 "nbformat": 4,
 "nbformat_minor": 2
}
