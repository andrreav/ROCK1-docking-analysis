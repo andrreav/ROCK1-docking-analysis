{
 "cells": [
  {
   "cell_type": "markdown",
   "id": "109a2d00",
   "metadata": {},
   "source": [
    "# Copy of AUC and histograms\n",
    "* to try the rescoring\n",
    "* uses weighed average"
   ]
  },
  {
   "cell_type": "code",
   "execution_count": null,
   "id": "dd9f5781",
   "metadata": {},
   "outputs": [],
   "source": [
    "# import libraries\n",
    "import pandas as pd\n",
    "from rdkit import Chem\n",
    "from rdkit import DataStructs\n",
    "from rdkit.Chem import AllChem\n",
    "from spyrmsd import rmsd\n",
    "import spyrmsd.molecule\n",
    "import numpy as np\n",
    "import prolif as plf\n",
    "from IPython.display import display\n",
    "import plotly.express as px\n",
    "import plotly.graph_objects as go\n",
    "import math\n",
    "import json\n",
    "from sklearn.metrics import roc_auc_score\n",
    "from sklearn.metrics import roc_curve\n",
    "\n",
    "from sklearn.model_selection import ParameterGrid"
   ]
  },
  {
   "cell_type": "code",
   "execution_count": null,
   "id": "3fbcc9d4",
   "metadata": {},
   "outputs": [],
   "source": [
    "# define list of bonds to find\n",
    "# taken from rescore.ipynb file (optimalization of weights)\n",
    "\n",
    "# bonds dicionary taken from optimalization using aligned bonds and -1.5 penalty for \"extra\" bonds\n",
    "    # penalty now implemented also here\n",
    "bonds = {'MET153.A_Hydrophobic': 0.84, 'MET156.A_VdWContact': 4.38647000624677, 'PHE368.A_Hydrophobic': 0.84, 'LYS105.A_VdWContact': 5.945898068663053, 'TYR155.A_Hydrophobic': 1.7772209283676828, 'LEU205.A_Hydrophobic': 3.6575552174288277, 'MET153.A_VdWContact': -1.64681891801749, 'PHE87.A_VdWContact': -0.9715120305947635, 'GLU154.A_VdWContact': 2.525721827497242, 'LYS105.A_PiCation': 8.28901702882621, 'ASP216.A_VdWContact': 0.37748685695342554, 'PHE87.A_Hydrophobic': 1.3372209283676828, 'VAL137.A_Hydrophobic': -1.8709829965975266, 'PHE368.A_VdWContact': -1.3194280624162824, 'GLY88.A_VdWContact': 1.2636909128609273, 'ALA215.A_VdWContact': 0.2, 'PHE120.A_Hydrophobic': -1.3994280624162825, 'PHE120.A_VdWContact': 2.4688780984537737, 'VAL90.A_Hydrophobic': -4.0099294855315035, 'VAL137.A_VdWContact': 0.16, 'PHE120.A_PiStacking': 0.16, 'ASP160.A_VdWContact': -2.450179005857511, 'ALA86.A_VdWContact': 0.8379453487529984, 'VAL90.A_VdWContact': 0.12, 'ASP202.A_VdWContact': -3.109598015506755, 'ASN203.A_VdWContact': -1.0942219755365032, 'GLU89.A_VdWContact': 0.08, 'ILE82.A_VdWContact': -2.490179005857511, 'ALA103.A_VdWContact': 3.7203398885308387, 'MET128.A_Hydrophobic': 0.04, 'ILE82.A_Hydrophobic': 0.04, 'LYS200.A_VdWContact': 2.693172001621254, 'SER116.A_VdWContact': 0.04, 'SER118.A_VdWContact': 0.04, 'LEU205.A_VdWContact': 0.04}"
   ]
  },
  {
   "cell_type": "code",
   "execution_count": null,
   "id": "00fb7d05",
   "metadata": {},
   "outputs": [],
   "source": [
    "# read protein molecule to calculate IFs on (save to PDBBlock)\n",
    "protein_file = \"../materials/2etr.pdb\"\n",
    "rdkit_prot = Chem.MolFromPDBFile(protein_file, removeHs=False)\n",
    "protein = plf.Molecule(rdkit_prot)"
   ]
  },
  {
   "cell_type": "code",
   "execution_count": null,
   "id": "bb52a12c",
   "metadata": {},
   "outputs": [],
   "source": [
    "# calculate IFs of a molecule\n",
    "# params: mol (rdkit.Molecule), protein (PDBBlock), bonds (dict)\n",
    "# returns: score calculated from existence of certain bonds\n",
    "def get_score(row, protein, bonds, docked_score, coef1, coef2, extra_bonds_penalty, not_found_penalty):\n",
    "    bonds_found = row[row == True].index.tolist()\n",
    "    common_bonds = set(bonds.keys()) & set(bonds_found)\n",
    "    extra_bonds = set(bonds_found).difference(set(bonds.keys())) # bonds that are not \"supposed\" to be there (are in docked, not in aligned)\n",
    "    not_found = set(bonds.keys()).difference(set(bonds_found)) # bonds that have a \"score\" but werent found\n",
    "\n",
    "\n",
    "    common_sum = 0\n",
    "    total_sum = 0\n",
    "    for bond, num in bonds.items():\n",
    "        total_sum = total_sum + num \n",
    "        if bond in common_bonds:\n",
    "            common_sum = common_sum + num \n",
    "        elif bond in extra_bonds:\n",
    "            common_sum = common_sum - extra_bonds_penalty\n",
    "        elif bond in not_found:\n",
    "            common_sum = common_sum - not_found_penalty\n",
    "\n",
    "    score_temp = (common_sum / total_sum) * 10\n",
    "    \n",
    "    score = coef1*score_temp - coef2*docked_score \n",
    "\n",
    "    return score\n"
   ]
  },
  {
   "cell_type": "code",
   "execution_count": null,
   "id": "b1acbb62",
   "metadata": {},
   "outputs": [],
   "source": [
    "\n",
    "def get_auc(params):\n",
    "    coef1, coef2, extra_bonds_penalty, not_found_penalty = params\n",
    "\n",
    "    actives_scores = {}\n",
    "    for x in range(24):\n",
    "        df_actives = pd.read_csv(f\"../materials/actives_decoys/ifs_glide/actives/actives_{x}.csv\", index_col=\"idx\")\n",
    "        for idx, row in df_actives.iterrows():\n",
    "            mol_id = row[\"mol_id\"]\n",
    "            docked_score = row[\"docked_score\"]\n",
    "            score = get_score(row, protein, bonds, docked_score,\n",
    "                              coef1, coef2, extra_bonds_penalty, not_found_penalty)\n",
    "            actives_scores[mol_id] = max(score, actives_scores.get(mol_id, -np.inf))\n",
    "\n",
    "    decoy_scores = {}\n",
    "    for x in range(93):\n",
    "        df_decoys = pd.read_csv(f\"../materials/actives_decoys/ifs_glide/decoys/decoys_{x}.csv\", index_col=\"idx\")\n",
    "        for idx, row in df_decoys.iterrows():\n",
    "            mol_id = row[\"mol_id\"]\n",
    "            docked_score = row[\"docked_score\"]\n",
    "            score = get_score(row, protein, bonds, docked_score,\n",
    "                              coef1, coef2, extra_bonds_penalty, not_found_penalty)\n",
    "            decoy_scores[mol_id] = max(score, decoy_scores.get(mol_id, -np.inf))\n",
    "\n",
    "    a_scores = list(actives_scores.values())\n",
    "    d_scores = list(decoy_scores.values())\n",
    "    total_scores = a_scores + d_scores\n",
    "    labels = [1]*len(a_scores) + [0]*len(d_scores)\n",
    "\n",
    "    total_scores = [s for s in total_scores]\n",
    "    auc = roc_auc_score(labels, total_scores)\n",
    "\n",
    "    return auc  \n"
   ]
  },
  {
   "cell_type": "code",
   "execution_count": null,
   "id": "5d804366",
   "metadata": {},
   "outputs": [],
   "source": [
    "paramGrid = {\n",
    "    \"coef1\": np.arange(0.08, 0.13, 0.01), #0.1\n",
    "    \"coef2\": np.arange(0.88, 0.93, 0.01), #0.9\n",
    "    \"extra_bonds_penalty\": [0.0],\n",
    "    \"not_found_penalty\": [0.0],\n",
    "    # \"extra_bonds_penalty\": np.arange(0.0, 5.0, 1.0),\n",
    "    # \"not_found_penalty\": np.arange(1.0, 5.0, 1.0),\n",
    "}\n",
    "paramComb = ParameterGrid(paramGrid)\n",
    "\n",
    "paramsAuc = []\n",
    "combs_len = len(paramComb) \n",
    "print(f\"num of combinations: {combs_len}\")\n",
    "combs_len = combs_len - 1\n",
    "for i, comb in enumerate(paramComb):\n",
    "    params = []\n",
    "    for val in comb.values():\n",
    "        params.append(val)\n",
    "    auc =  get_auc(params)\n",
    "    paramsAuc.append(auc)\n",
    "    print(f\"Hotovo: {i} / {combs_len}\\n\\tAUC = {auc}\\n\\tbestParams: {comb}\")\n",
    "\n",
    "\n",
    "bestParams = paramComb[np.argmax(paramsAuc)]\n",
    "print(f\"Best params: {bestParams}\")\n",
    "print(f\"With AUC = {max(paramsAuc)}\")\n",
    "\n"
   ]
  },
  {
   "cell_type": "markdown",
   "id": "a0cefaae",
   "metadata": {},
   "source": [
    "### Best Params Graphs"
   ]
  },
  {
   "cell_type": "code",
   "execution_count": null,
   "id": "2895a1a3",
   "metadata": {},
   "outputs": [],
   "source": [
    "# actives\n",
    "#coef1, coef2, extra_bonds_penalty, not_found_penalty\n",
    "\n",
    "actives_scores = {}\n",
    "for x in range(24):\n",
    "    df_actives = pd.read_csv(f\"../materials/actives_decoys/ifs_glide/actives/actives_{x}.csv\", index_col=\"idx\")\n",
    "    for idx, row in df_actives.iterrows():\n",
    "        mol_id = row[\"mol_id\"]\n",
    "        docked_score = row[\"docked_score\"]\n",
    "        score = get_score(row, protein, bonds, docked_score, bestParams[\"coef1\"], bestParams[\"coef2\"], bestParams[\"extra_bonds_penalty\"], bestParams[\"not_found_penalty\"])\n",
    "        if mol_id in actives_scores:\n",
    "            if actives_scores[mol_id] < score:\n",
    "                actives_scores[mol_id] = score\n",
    "        else:\n",
    "            actives_scores[mol_id] = score\n",
    "\n",
    "print(actives_scores)"
   ]
  },
  {
   "cell_type": "code",
   "execution_count": null,
   "id": "863e327c",
   "metadata": {},
   "outputs": [],
   "source": [
    "# decoys\n",
    "decoy_scores = {}\n",
    "for x in range(93):\n",
    "    df_decoys = pd.read_csv(f\"../materials/actives_decoys/ifs_glide/decoys/decoys_{x}.csv\", index_col=\"idx\")\n",
    "    for idx, row in df_decoys.iterrows():\n",
    "        mol_id = row[\"mol_id\"]\n",
    "        docked_score = row[\"docked_score\"]\n",
    "        score = get_score(row, protein, bonds, docked_score, bestParams[\"coef1\"], bestParams[\"coef2\"], bestParams[\"extra_bonds_penalty\"], bestParams[\"not_found_penalty\"])\n",
    "        if mol_id in decoy_scores:\n",
    "            if decoy_scores[mol_id] < score:\n",
    "                decoy_scores[mol_id] = score\n",
    "        else:\n",
    "            decoy_scores[mol_id] = score\n",
    "\n",
    "print(decoy_scores)"
   ]
  },
  {
   "cell_type": "code",
   "execution_count": null,
   "id": "bec1ce18",
   "metadata": {},
   "outputs": [],
   "source": [
    "a_scores = [float(score[1]) for score in actives_scores.items()]\n",
    "print(a_scores)\n",
    "d_scores = [float(score[1]) for score in decoy_scores.items()]"
   ]
  },
  {
   "cell_type": "code",
   "execution_count": null,
   "id": "c8999fb5-339f-4412-922f-c735baa40eb5",
   "metadata": {},
   "outputs": [],
   "source": [
    "from matplotlib import pyplot as plt\n",
    "plt.hist(a_scores,density=True,bins=50,alpha=0.5,label=\"actives\")\n",
    "plt.hist(d_scores,density=True,bins=50,alpha=0.5,label=\"decoys\")\n",
    "\n",
    "\n",
    "plt.title(\"docking scores actives vs decoys\")\n",
    "plt.title(\"docking scores actives\")\n",
    "plt.xlabel(\"docking score\")\n",
    "plt.ylabel(\"density\")\n",
    "plt.legend()\n",
    "plt.show()"
   ]
  },
  {
   "cell_type": "code",
   "execution_count": null,
   "id": "a52631ac-d1b0-404b-bf86-dc6b552efd42",
   "metadata": {},
   "outputs": [],
   "source": [
    "total_scores = a_scores+d_scores\n",
    "labels = [1]*len(a_scores)+[0]*len(d_scores)\n",
    "\n",
    "total_scores = [t for t in total_scores]  # auc needs negative values (new scores are positive)\n",
    "\n",
    "auc = roc_auc_score(labels,total_scores)\n",
    "fpr,tpr,_ = roc_curve(labels,total_scores)\n",
    "plt.plot(fpr,tpr,label=f\"AUC = {auc}\")\n",
    "plt.plot([i for i in range(2)],[i for i in range(2)], label=\"random\")\n",
    "plt.xlabel(\"FPR\")\n",
    "plt.ylabel(\"TPR\")\n",
    "plt.title(\"GLIDE SP ROC curve\")\n",
    "plt.legend()\n",
    "plt.show()"
   ]
  }
 ],
 "metadata": {
  "kernelspec": {
   "display_name": "Python 3",
   "language": "python",
   "name": "python3"
  },
  "language_info": {
   "codemirror_mode": {
    "name": "ipython",
    "version": 3
   },
   "file_extension": ".py",
   "mimetype": "text/x-python",
   "name": "python",
   "nbconvert_exporter": "python",
   "pygments_lexer": "ipython3",
   "version": "3.8.20"
  }
 },
 "nbformat": 4,
 "nbformat_minor": 5
}
